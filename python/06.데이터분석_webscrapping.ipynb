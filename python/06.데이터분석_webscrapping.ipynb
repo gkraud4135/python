{
 "cells": [
  {
   "cell_type": "markdown",
   "metadata": {},
   "source": [
    "### 웹스크래핑(Web Scrapping)\n",
    "\n",
    "#### 1. 개념\n",
    "\n",
    "* 웹스크래핑(Web Scrapping) : 웹사이트상에서 특정부분에 위치한 정보를 컴퓨터로 하그름 자동 추출하여 수집하는 기술\n",
    "* 웹크롤링(Web Crawling) : 자동화봇인 Web Crawler가 정해지 규칙에 따라 복수개의 웹페이지를 브라우징하는 작업\n",
    "\n",
    "#### 2. 웹스크래핑을 위한 라이브러리\n",
    "\n",
    "* `BeautipleSoup` : HTML과 XML문서를 파싱하기 위한 파이썬 패키지앋.\n",
    "* scrapy : Python으로 작성된 오픈소스 웹크롤링 프레임워크로서 웹 데이터를 수집하는 것을 목적으로 설계되었다.\n",
    "\n",
    "\n",
    "#### 3. 파이썬으로 크롤링하기\n",
    "\n",
    "* 크롤링의 정의는 `크롤링 crawling` or `스크랩핑 scrapping`은 웹페이지를 그대로 가져와서 해당 페이지에서 데이터를 추출해 내는 행위이다.\n",
    "\n",
    "##### 크롤링 또는 스크래핑 방법\n",
    "1. 원하는 페이지에 `요청(request)`을 보낸 결과를 html로 받는다.\n",
    "2. 받은 html을 `파싱(parsing)`을 한다.\n",
    "3. 필요한 `정보를 추출`한다.\n",
    "\n",
    "* 파이썬을 이용해서 웹크롤러를 만들기 위해서는 `http request/response`를 다루는 모듈과 `html을 파싱`하는 모듈이 필요하다.\n",
    ">참고사이트\n",
    "* https://www.crummy.com/software/BeautifulSoup\n",
    "* https://docs.python.org/3.0/library/urllib.request.html"
   ]
  },
  {
   "cell_type": "code",
   "execution_count": 3,
   "metadata": {},
   "outputs": [
    {
     "name": "stdout",
     "output_type": "stream",
     "text": [
      "<class 'http.client.HTTPResponse'>\n",
      "<http.client.HTTPResponse object at 0x000002984D43B6D0>\n"
     ]
    },
    {
     "data": {
      "text/plain": [
       "b'<!doctype html><html itemscope=\"\" itemtype=\"http://schema.org/WebPage\" lang=\"ko\"><head><meta content=\"text/html; charset=UTF-8\" http-equiv=\"Content-Type\"><meta content=\"/images/branding/googleg/1x/googleg_standard_color_128dp.png\" itemprop=\"image\"><title>Google</title><script nonce=\"soEQ5vP4ILtk0mRHvpwhjg==\">(function(){window.google={kEI:\\'-K6LYImOHc6voATN84Yo\\',kEXPI:\\'0,1302536,56873,954,5105,206,4804,2316,383,246,5,1354,5250,16231,10,1106275,1233,1196517,533,42,1,328941,51224,16114,28684,17572,1326,3533,1361,9290,3030,4738,12841,4020,978,13228,2054,1793,4192,6430,7432,7095,4517,2778,919,2277,8,2796,889,704,1279,1042,1170,531,148,1103,841,516,1523,157,4100,108,3406,606,2023,1777,520,4269,328,1284,8789,3227,2845,7,5599,6755,5096,7877,4928,108,2854,553,908,2,941,2614,2397,1027,9718,3,576,1835,4625,148,5990,6324,1661,4,1528,2304,1236,5226,577,1791,2892,2015,4067,12555,1753,2658,872,3371,518,912,564,464,654,32,3854,4275,2880,2619,1593,714,636,1494,5586,10535,665,2145,376,3288,2548,2954,1140,20,2237,881,6,908,3,1902,1639,1,4174,1901,481,2792,596,1998,2768,1814,38,245,913,5991,1260,1194,2,4298,400,32,2859,1501,980,2,1394,2339,2,465,845,873,2,485,1922,625,22,2547,2714,1620,3,5949,2,61,617,255,660,350,1,1,1,596,974,453,83,11,1858,186,286,1066,209,1330,1070,617,1155,406,2555,114,530,149,145,204,788,2,2,2,659,1291,939,76,252,682,13,489,76,111,188,291,31,14,819,509,692,1616,986,9,266,2,184,1929,309,851,720,1092,510,384,5652640,3905,226,63,30,8797692,882,444,1,2,80,1,1796,1,9,2,2551,1,748,141,795,563,1,4265,1,1,2,1331,3299,843,1,2608,155,17,13,72,139,4,2,20,2,169,13,19,46,5,39,96,73,4,47,160,4,4,4,4,4,4,8,4,4,4,24,68,128,29,2,2,1,2,1,2,2,7,4,1,2,4,2,59,31,2,6,51,1,24,17,5,39,12,16,31,1,3,4,13,21,6,38,23955853,149,2738315,1271809,268,27379,2,924,2,205,7,2013,901\\',kBL:\\'i33l\\'};google.sn=\\'webhp\\';google.kHL=\\'ko\\';})();(function(){\\nvar f,h=[];function k(a){for(var b;a&&(!a.getAttribute||!(b=a.getAttribute(\"eid\")));)a=a.parentNode;return b||f}function l(a){for(var b=null;a&&(!a.getAttribute||!(b=a.getAttribute(\"leid\")));)a=a.parentNode;return b}\\nfunction m(a,b,c,d,g){var e=\"\";c||-1!=b.search(\"&ei=\")||(e=\"&ei=\"+k(d),-1==b.search(\"&lei=\")&&(d=l(d))&&(e+=\"&lei=\"+d));d=\"\";!c&&window._cshid&&-1==b.search(\"&cshid=\")&&\"slh\"!=a&&(d=\"&cshid=\"+window._cshid);c=c||\"/\"+(g||\"gen_204\")+\"?atyp=i&ct=\"+a+\"&cad=\"+b+e+\"&zx=\"+Date.now()+d;/^http:/i.test(c)&&\"https:\"==window.location.protocol&&(google.ml&&google.ml(Error(\"a\"),!1,{src:c,glmm:1}),c=\"\");return c};f=google.kEI;google.getEI=k;google.getLEI=l;google.ml=function(){return null};google.log=function(a,b,c,d,g){if(c=m(a,b,c,d,g)){a=new Image;var e=h.length;h[e]=a;a.onerror=a.onload=a.onabort=function(){delete h[e]};a.src=c}};google.logUrl=m;}).call(this);(function(){\\ngoogle.y={};google.sy=[];google.x=function(a,b){if(a)var c=a.id;else{do c=Math.random();while(google.y[c])}google.y[c]=[a,b];return!1};google.sx=function(a){google.sy.push(a)};google.lm=[];google.plm=function(a){google.lm.push.apply(google.lm,a)};google.lq=[];google.load=function(a,b,c){google.lq.push([[a],b,c])};google.loadAll=function(a,b){google.lq.push([a,b])};google.bx=!1;google.lx=function(){};}).call(this);google.f={};(function(){\\ndocument.documentElement.addEventListener(\"submit\",function(b){var a;if(a=b.target){var c=a.getAttribute(\"data-submitfalse\");a=\"1\"==c||\"q\"==c&&!a.elements.q.value?!0:!1}else a=!1;a&&(b.preventDefault(),b.stopPropagation())},!0);document.documentElement.addEventListener(\"click\",function(b){var a;a:{for(a=b.target;a&&a!=document.documentElement;a=a.parentElement)if(\"A\"==a.tagName){a=\"1\"==a.getAttribute(\"data-nohref\");break a}a=!1}a&&b.preventDefault()},!0);}).call(this);</script><style>#gbar,#guser{font-size:13px;padding-top:1px !important;}#gbar{height:22px}#guser{padding-bottom:7px !important;text-align:right}.gbh,.gbd{border-top:1px solid #c9d7f1;font-size:1px}.gbh{height:0;position:absolute;top:24px;width:100%}@media all{.gb1{height:22px;margin-right:.5em;vertical-align:top}#gbar{float:left}}a.gb1,a.gb4{text-decoration:underline !important}a.gb1,a.gb4{color:#00c !important}.gbi .gb4{color:#dd8e27 !important}.gbf .gb4{color:#900 !important}\\n</style><style>body,td,a,p,.h{font-family:&#44404;&#47548;,&#46027;&#50880;,arial,sans-serif}.ko{font-size:9pt}body{margin:0;overflow-y:scroll}#gog{padding:3px 8px 0}td{line-height:.8em}.gac_m td{line-height:17px}form{margin-bottom:20px}.h{color:#1558d6}em{font-weight:bold;font-style:normal}.lst{height:25px;width:496px}.gsfi,.lst{font:18px arial,sans-serif}.gsfs{font:17px arial,sans-serif}.ds{display:inline-box;display:inline-block;margin:3px 0 4px;margin-left:4px}input{font-family:inherit}body{background:#fff;color:#000}a{color:#4b11a8;text-decoration:none}a:hover,a:active{text-decoration:underline}.fl a{color:#1558d6}a:visited{color:#4b11a8}.sblc{padding-top:5px}.sblc a{display:block;margin:2px 0;margin-left:13px;font-size:11px}.lsbb{background:#f8f9fa;border:solid 1px;border-color:#dadce0 #70757a #70757a #dadce0;height:30px}.lsbb{display:block}#WqQANb a{display:inline-block;margin:0 12px}.lsb{background:url(/images/nav_logo229.png) 0 -261px repeat-x;border:none;color:#000;cursor:pointer;height:30px;margin:0;outline:0;font:15px arial,sans-serif;vertical-align:top}.lsb:active{background:#dadce0}.lst:focus{outline:none}.tiah{width:458px}</style><script nonce=\"soEQ5vP4ILtk0mRHvpwhjg==\"></script></head><body bgcolor=\"#fff\"><script nonce=\"soEQ5vP4ILtk0mRHvpwhjg==\">(function(){var src=\\'/images/nav_logo229.png\\';var iesg=false;document.body.onload = function(){window.n && window.n();if (document.images){new Image().src=src;}\\nif (!iesg){document.f&&document.f.q.focus();document.gbqf&&document.gbqf.q.focus();}\\n}\\n})();</script><div id=\"mngb\"><div id=gbar><nobr><b class=gb1>&#44160;&#49353;</b> <a class=gb1 href=\"http://www.google.co.kr/imghp?hl=ko&tab=wi\">&#51060;&#48120;&#51648;</a> <a class=gb1 href=\"http://maps.google.co.kr/maps?hl=ko&tab=wl\">&#51648;&#46020;</a> <a class=gb1 href=\"https://play.google.com/?hl=ko&tab=w8\">Play</a> <a class=gb1 href=\"http://www.youtube.com/?gl=KR&tab=w1\">YouTube</a> <a class=gb1 href=\"https://news.google.com/?tab=wn\">&#45684;&#49828;</a> <a class=gb1 href=\"https://mail.google.com/mail/?tab=wm\">Gmail</a> <a class=gb1 href=\"https://drive.google.com/?tab=wo\">&#46300;&#46972;&#51060;&#48652;</a> <a class=gb1 style=\"text-decoration:none\" href=\"https://www.google.co.kr/intl/ko/about/products?tab=wh\"><u>&#45908;&#48372;&#44592;</u> &raquo;</a></nobr></div><div id=guser width=100%><nobr><span id=gbn class=gbi></span><span id=gbf class=gbf></span><span id=gbe></span><a href=\"http://www.google.co.kr/history/optout?hl=ko\" class=gb4>&#50937; &#44592;&#47197;</a> | <a  href=\"/preferences?hl=ko\" class=gb4>&#49444;&#51221;</a> | <a target=_top id=gb_70 href=\"https://accounts.google.com/ServiceLogin?hl=ko&passive=true&continue=http://www.google.com/&ec=GAZAAQ\" class=gb4>&#47196;&#44536;&#51064;</a></nobr></div><div class=gbh style=left:0></div><div class=gbh style=right:0></div></div><center><br clear=\"all\" id=\"lgpd\"><div id=\"lga\"><img alt=\"Google\" height=\"92\" src=\"/images/branding/googlelogo/1x/googlelogo_white_background_color_272x92dp.png\" style=\"padding:28px 0 14px\" width=\"272\" id=\"hplogo\"><br><br></div><form action=\"/search\" name=\"f\"><table cellpadding=\"0\" cellspacing=\"0\"><tr valign=\"top\"><td width=\"25%\">&nbsp;</td><td align=\"center\" nowrap=\"\"><input name=\"ie\" value=\"ISO-8859-1\" type=\"hidden\"><input value=\"ko\" name=\"hl\" type=\"hidden\"><input name=\"source\" type=\"hidden\" value=\"hp\"><input name=\"biw\" type=\"hidden\"><input name=\"bih\" type=\"hidden\"><div class=\"ds\" style=\"height:32px;margin:4px 0\"><div style=\"position:relative;zoom:1\"><input class=\"lst tiah\" style=\"margin:0;padding:5px 8px 0 6px;vertical-align:top;color:#000;padding-right:38px\" autocomplete=\"off\" value=\"\" title=\"Google &#44160;&#49353;\" maxlength=\"2048\" name=\"q\" size=\"57\"><img src=\"/textinputassistant/tia.png\" style=\"position:absolute;cursor:pointer;right:5px;top:4px;z-index:300\" data-script-url=\"/textinputassistant/11/ko_tia.js\" id=\"tsuid1\" alt=\"\" height=\"23\" width=\"27\"><script nonce=\"soEQ5vP4ILtk0mRHvpwhjg==\">(function(){var id=\\'tsuid1\\';document.getElementById(id).onclick = function(){var s = document.createElement(\\'script\\');s.src = this.getAttribute(\\'data-script-url\\');(document.getElementById(\\'xjsc\\')||document.body).appendChild(s);};})();</script></div></div><br style=\"line-height:0\"><span class=\"ds\"><span class=\"lsbb\"><input class=\"lsb\" value=\"Google &#44160;&#49353;\" name=\"btnG\" type=\"submit\"></span></span><span class=\"ds\"><span class=\"lsbb\"><input class=\"lsb\" id=\"tsuid2\" value=\"I&#8217;m Feeling Lucky\" name=\"btnI\" type=\"submit\"><script nonce=\"soEQ5vP4ILtk0mRHvpwhjg==\">(function(){var id=\\'tsuid2\\';document.getElementById(id).onclick = function(){if (this.form.q.value){this.checked = 1;if (this.form.iflsig)this.form.iflsig.disabled = false;}\\nelse top.location=\\'/doodles/\\';};})();</script><input value=\"AINFCbYAAAAAYIu9CJY7nqFub1SxgidZ1h0V5zOW0jYI\" name=\"iflsig\" type=\"hidden\"></span></span></td><td class=\"fl sblc\" align=\"left\" nowrap=\"\" width=\"25%\"><a href=\"/advanced_search?hl=ko&amp;authuser=0\">&#44256;&#44553;&#44160;&#49353;</a></td></tr></table><input id=\"gbv\" name=\"gbv\" type=\"hidden\" value=\"1\"><script nonce=\"soEQ5vP4ILtk0mRHvpwhjg==\">(function(){\\nvar a,b=\"1\";if(document&&document.getElementById)if(\"undefined\"!=typeof XMLHttpRequest)b=\"2\";else if(\"undefined\"!=typeof ActiveXObject){var c,d,e=[\"MSXML2.XMLHTTP.6.0\",\"MSXML2.XMLHTTP.3.0\",\"MSXML2.XMLHTTP\",\"Microsoft.XMLHTTP\"];for(c=0;d=e[c++];)try{new ActiveXObject(d),b=\"2\"}catch(h){}}a=b;if(\"2\"==a&&-1==location.search.indexOf(\"&gbv=2\")){var f=google.gbvu,g=document.getElementById(\"gbv\");g&&(g.value=a);f&&window.setTimeout(function(){location.href=f},0)};}).call(this);</script></form><div id=\"gac_scont\"></div><div style=\"font-size:83%;min-height:3.5em\"><br></div><span id=\"footer\"><div style=\"font-size:10pt\"><div style=\"margin:19px auto;text-align:center\" id=\"WqQANb\"><a href=\"/intl/ko/ads/\">&#44305;&#44256; &#54532;&#47196;&#44536;&#47016;</a><a href=\"http://www.google.co.kr/intl/ko/services/\">&#48708;&#51592;&#45768;&#49828; &#49556;&#47336;&#49496;</a><a href=\"/intl/ko/about.html\">Google &#51221;&#48372;</a><a href=\"http://www.google.com/setprefdomain?prefdom=KR&amp;prev=http://www.google.co.kr/&amp;sig=K_JkktLOb1wO-_lZRnQZerLpmw_6w%3D\">Google.co.kr</a></div></div><p style=\"font-size:8pt;color:#70757a\">&copy; 2021 - <a href=\"/intl/ko/policies/privacy/\">&#44060;&#51064;&#51221;&#48372;&#52376;&#47532;&#48169;&#52840;</a> - <a href=\"/intl/ko/policies/terms/\">&#50557;&#44288;</a></p></span></center><script nonce=\"soEQ5vP4ILtk0mRHvpwhjg==\">(function(){window.google.cdo={height:0,width:0};(function(){\\nvar a=window.innerWidth,b=window.innerHeight;if(!a||!b){var c=window.document,d=\"CSS1Compat\"==c.compatMode?c.documentElement:c.body;a=d.clientWidth;b=d.clientHeight}a&&b&&(a!=google.cdo.width||b!=google.cdo.height)&&google.log(\"\",\"\",\"/client_204?&atyp=i&biw=\"+a+\"&bih=\"+b+\"&ei=\"+google.kEI);}).call(this);})();</script> <script nonce=\"soEQ5vP4ILtk0mRHvpwhjg==\">(function(){google.xjs={ck:\\'xjs.hp.v1cE8KxQzDU.L.X.O\\',cs:\\'ACT90oHnPVKetjbHQ1ode_1NqWqWzwyt7g\\',excm:[]};})();</script>  <script nonce=\"soEQ5vP4ILtk0mRHvpwhjg==\">(function(){var u=\\'/xjs/_/js/k\\\\x3dxjs.hp.en.coF3tVYPN_8.O/m\\\\x3dsb_he,d/am\\\\x3dAHgCHA/d\\\\x3d1/ed\\\\x3d1/rs\\\\x3dACT90oFOnE0zB4AF8VhktIF11wXvH4PJlw\\';\\nvar d=this||self,e=function(a){return a};var f;var h=function(a,b){this.g=b===g?a:\"\"};h.prototype.toString=function(){return this.g+\"\"};var g={};var l=null,m=/^[\\\\w+/_-]+[=]{0,2}$/,n=function(a){return a.querySelector?(a=a.querySelector(\"script[nonce]\"))&&(a=a.nonce||a.getAttribute(\"nonce\"))&&m.test(a)?a:\"\":\"\"};function p(){var a=u;google.lx=function(){q(a);google.lx=function(){}};google.bx||google.lx()}\\nfunction q(a){var b=document;var c=\"SCRIPT\";\"application/xhtml+xml\"===b.contentType&&(c=c.toLowerCase());c=b.createElement(c);if(void 0===f){b=null;var k=d.trustedTypes;if(k&&k.createPolicy){try{b=k.createPolicy(\"goog#html\",{createHTML:e,createScript:e,createScriptURL:e})}catch(r){d.console&&d.console.error(r.message)}f=b}else f=b}a=(b=f)?b.createScriptURL(a):a;a=new h(a,g);c.src=a instanceof h&&a.constructor===h?a.g:\"type_error:TrustedResourceUrl\";(a=c.ownerDocument&&c.ownerDocument.defaultView)&&\\na!=d?a=n(a.document):(null===l&&(l=n(d.document)),a=l);a&&c.setAttribute(\"nonce\",a);google.timers&&google.timers.load&&google.tick&&google.tick(\"load\",\"xjsls\");document.body.appendChild(c);google.psa=!0};setTimeout(function(){p()},0);})();(function(){window.google.xjsu=\\'/xjs/_/js/k\\\\x3dxjs.hp.en.coF3tVYPN_8.O/m\\\\x3dsb_he,d/am\\\\x3dAHgCHA/d\\\\x3d1/ed\\\\x3d1/rs\\\\x3dACT90oFOnE0zB4AF8VhktIF11wXvH4PJlw\\';})();function _DumpException(e){throw e;}\\nfunction _F_installCss(c){}\\n(function(){google.jl={blt:\\'none\\',dw:false,emtn:0,ine:false,lls:\\'default\\',pdt:0,snet:true,uwp:true};})();(function(){var pmc=\\'{\\\\x22d\\\\x22:{},\\\\x22sb_he\\\\x22:{\\\\x22agen\\\\x22:true,\\\\x22cgen\\\\x22:true,\\\\x22client\\\\x22:\\\\x22heirloom-hp\\\\x22,\\\\x22dh\\\\x22:true,\\\\x22dhqt\\\\x22:true,\\\\x22ds\\\\x22:\\\\x22\\\\x22,\\\\x22ffql\\\\x22:\\\\x22ko\\\\x22,\\\\x22fl\\\\x22:true,\\\\x22host\\\\x22:\\\\x22google.com\\\\x22,\\\\x22isbh\\\\x22:28,\\\\x22jsonp\\\\x22:true,\\\\x22msgs\\\\x22:{\\\\x22cibl\\\\x22:\\\\x22&#44160;&#49353;&#50612; &#51648;&#50864;&#44592;\\\\x22,\\\\x22dym\\\\x22:\\\\x22&#51060;&#44163;&#51012; &#52286;&#51004;&#49512;&#45208;&#50836;?\\\\x22,\\\\x22lcky\\\\x22:\\\\x22I&#8217;m Feeling Lucky\\\\x22,\\\\x22lml\\\\x22:\\\\x22&#51088;&#49464;&#55176; &#50508;&#50500;&#48372;&#44592;\\\\x22,\\\\x22oskt\\\\x22:\\\\x22&#51077;&#47141; &#46020;&#44396;\\\\x22,\\\\x22psrc\\\\x22:\\\\x22&#44160;&#49353;&#50612;&#44032; \\\\\\\\u003Ca href\\\\x3d\\\\\\\\\\\\x22/history\\\\\\\\\\\\x22\\\\\\\\u003E&#50937; &#44592;&#47197;\\\\\\\\u003C/a\\\\\\\\u003E&#50640;&#49436; &#49325;&#51228;&#46104;&#50632;&#49845;&#45768;&#45796;.\\\\x22,\\\\x22psrl\\\\x22:\\\\x22&#49325;&#51228;\\\\x22,\\\\x22sbit\\\\x22:\\\\x22&#51060;&#48120;&#51648;&#47196; &#44160;&#49353;\\\\x22,\\\\x22srch\\\\x22:\\\\x22Google &#44160;&#49353;\\\\x22},\\\\x22nrft\\\\x22:false,\\\\x22ovr\\\\x22:{},\\\\x22pq\\\\x22:\\\\x22\\\\x22,\\\\x22refpd\\\\x22:true,\\\\x22refspre\\\\x22:true,\\\\x22rfs\\\\x22:[],\\\\x22sbas\\\\x22:\\\\x220 3px 8px 0 rgba(0,0,0,0.2),0 0 0 1px rgba(0,0,0,0.08)\\\\x22,\\\\x22sbpl\\\\x22:16,\\\\x22sbpr\\\\x22:16,\\\\x22scd\\\\x22:10,\\\\x22stok\\\\x22:\\\\x226b3F14eo6VMmhtsLa8EufExkg-8\\\\x22,\\\\x22uhde\\\\x22:false}}\\';google.pmc=JSON.parse(pmc);})();</script>        </body></html>'"
      ]
     },
     "execution_count": 3,
     "metadata": {},
     "output_type": "execute_result"
    }
   ],
   "source": [
    "# 1. html소스읽기\n",
    "from urllib.request import urlopen\n",
    "html = urlopen('http://www.google.com')\n",
    "print(type(html))\n",
    "print(html)\n",
    "html.read()"
   ]
  },
  {
   "cell_type": "code",
   "execution_count": 5,
   "metadata": {},
   "outputs": [
    {
     "name": "stdout",
     "output_type": "stream",
     "text": [
      "URLError 발생\n"
     ]
    }
   ],
   "source": [
    "# 예외처리\n",
    "from urllib.error import HTTPError\n",
    "from urllib.error import URLError\n",
    "\n",
    "try:\n",
    "    html = urlopen('http://www.googlexxx.com')\n",
    "except HTTPError as e:\n",
    "    print('HTTPError 발생')\n",
    "except URLError as e:\n",
    "    print('URLError 발생')   \n",
    "else:\n",
    "    print(html.read())"
   ]
  },
  {
   "cell_type": "markdown",
   "metadata": {},
   "source": [
    "<img src=\"https://t1.daumcdn.net/daumtop_chanel/op/20200723055344399.png\" width=\"180\" height=\"94\" id=\"daum\" class=\"img_thumb\" alt=\"Daum\">"
   ]
  },
  {
   "cell_type": "code",
   "execution_count": 6,
   "metadata": {},
   "outputs": [
    {
     "name": "stdout",
     "output_type": "stream",
     "text": [
      "파일이 정상적으로 저장되었습니다!\n"
     ]
    }
   ],
   "source": [
    "# 이미지다운로드(1) - 간편한방법\n",
    "import urllib.request\n",
    "\n",
    "# 다음사이트에서 다음로그이미지를 다운\n",
    "url = \"https://t1.daumcdn.net/daumtop_chanel/op/20200723055344399.png\"\n",
    "savefilename = './data/daum.png'\n",
    "\n",
    "urllib.request.urlretrieve(url, savefilename)\n",
    "print('파일이 정상적으로 저장되었습니다!')"
   ]
  },
  {
   "cell_type": "code",
   "execution_count": 9,
   "metadata": {},
   "outputs": [
    {
     "name": "stdout",
     "output_type": "stream",
     "text": [
      "파일이 정상적으로 저장되었습니다!\n"
     ]
    }
   ],
   "source": [
    "# 이미지다운로드(1) - 바이너리파일\n",
    "url = \"https://t1.daumcdn.net/daumtop_chanel/op/20200723055344399.png\"\n",
    "savefilename = './data/daum_1.png'\n",
    "image = urllib.request.urlopen(url).read()\n",
    "# print(type(image), image)\n",
    "\n",
    "with open(savefilename, 'wb') as f:\n",
    "    f.write(image)\n",
    "    print('파일이 정상적으로 저장되었습니다!')"
   ]
  },
  {
   "cell_type": "markdown",
   "metadata": {},
   "source": [
    "#### 2. 웹스크래핑 - BeautifulSoup\n",
    "\n",
    "* 다운로드 https://www.crummy.com/software/BeautifulSoup\n",
    "* `pip install beautifulsoup4` or `conda install beautifulsoup4`\n",
    " - 4를 생략하면 3.x버전이 설치된다."
   ]
  },
  {
   "cell_type": "code",
   "execution_count": 10,
   "metadata": {},
   "outputs": [
    {
     "name": "stdout",
     "output_type": "stream",
     "text": [
      "Requirement already satisfied: beautifulsoup4 in c:\\anaconda3\\lib\\site-packages (4.9.3)\n",
      "Requirement already satisfied: soupsieve>1.2; python_version >= \"3.0\" in c:\\anaconda3\\lib\\site-packages (from beautifulsoup4) (2.0.1)\n",
      "Name: beautifulsoup4\n",
      "Version: 4.9.3\n",
      "Summary: Screen-scraping library\n",
      "Home-page: http://www.crummy.com/software/BeautifulSoup/bs4/\n",
      "Author: Leonard Richardson\n",
      "Author-email: leonardr@segfault.org\n",
      "License: MIT\n",
      "Location: c:\\anaconda3\\lib\\site-packages\n",
      "Requires: soupsieve\n",
      "Required-by: conda-build\n"
     ]
    }
   ],
   "source": [
    "!pip install beautifulsoup4\n",
    "!pip show beautifulsoup4"
   ]
  },
  {
   "cell_type": "code",
   "execution_count": 11,
   "metadata": {},
   "outputs": [],
   "source": [
    "from urllib.request import urlopen\n",
    "from bs4 import BeautifulSoup as bs\n"
   ]
  },
  {
   "cell_type": "code",
   "execution_count": 22,
   "metadata": {},
   "outputs": [
    {
     "name": "stdout",
     "output_type": "stream",
     "text": [
      "<h1>Hello Web Scraping</h1>\n",
      "<p>웹 페이지 분석</p>\n",
      "<p>웹 스크래핑</p>\n",
      "\n",
      "h1= Hello Web Scraping\n",
      "p1= 웹 페이지 분석\n",
      "p2= 웹 페이지 분석\n"
     ]
    }
   ],
   "source": [
    "html ='''\n",
    "<html><body>\n",
    "    <h1>Hello Web Scraping</h1>\n",
    "    <p>웹 페이지 분석</p>\n",
    "    <p>웹 스크래핑</p>\n",
    "</body></html>\n",
    "'''\n",
    "\n",
    "soup = bs(html, 'html.parser')\n",
    "soup.h1\n",
    "soup.p\n",
    "\n",
    "h1 = soup.html.body.h1\n",
    "p1 = soup.html.body.p\n",
    "print(h1)\n",
    "print(p1)\n",
    "\n",
    "# previous_sibling, next_sibling\n",
    "p2 = p1.next_sibling # 줄바꿈문자 next_sibling\n",
    "p2 = p1.next_sibling.next_sibling\n",
    "print(p2)\n",
    "print()\n",
    "\n",
    "# 태그의 문자정보\n",
    "print('h1=', h1.string)\n",
    "print('p1=', p1.string)\n",
    "print('p2=', p1.string)"
   ]
  },
  {
   "cell_type": "code",
   "execution_count": 25,
   "metadata": {},
   "outputs": [
    {
     "name": "stdout",
     "output_type": "stream",
     "text": [
      "Hello Web Scraping\n",
      "Hello Web Scraping\n"
     ]
    }
   ],
   "source": [
    "# 3. find()\n",
    "html ='''\n",
    "<html><body>\n",
    "    <h1 id=\"title\">Hello Web Scraping</h1>\n",
    "    <p id=\"body\">웹 페이지 분석</p>\n",
    "    <p>웹 스크래핑</p>\n",
    "</body></html>\n",
    "'''\n",
    "\n",
    "soup = bs(html, 'html.parser')\n",
    "print(soup.h1.string)\n",
    "print(soup.find(id='title').string)"
   ]
  },
  {
   "cell_type": "code",
   "execution_count": 28,
   "metadata": {},
   "outputs": [
    {
     "name": "stdout",
     "output_type": "stream",
     "text": [
      "http://daum.net = daum\n",
      "http://google.com = google\n",
      "http://yahoo.com = yahoo\n",
      "http://nate.com = nate\n",
      "http://naver.com = naver\n"
     ]
    }
   ],
   "source": [
    "# 4. find_all() : 특정 속성을 가진 tag전체를 선택\n",
    "html ='''\n",
    "<html><body>\n",
    "    <li><a href=\"http://daum.net\">daum</a></li>\n",
    "    <li><a href=\"http://google.com\">google</a></li>\n",
    "    <li><a href=\"http://yahoo.com\">yahoo</a></li>\n",
    "    <li><a href=\"http://nate.com\">nate</a></li>\n",
    "    <li><a href=\"http://naver.com\">naver</a></li>\n",
    "</body></html>\n",
    "'''\n",
    "soup = bs(html, 'html.parser')\n",
    "\n",
    "links = soup.find_all('a')\n",
    "for link in links:\n",
    "    text = link.string\n",
    "    href = link.attrs['href']\n",
    "    print(href, '=', text)"
   ]
  },
  {
   "cell_type": "code",
   "execution_count": 30,
   "metadata": {},
   "outputs": [
    {
     "name": "stdout",
     "output_type": "stream",
     "text": [
      "도서목록\n",
      "li= 자바프로그램 입문\n",
      "li= 파이썬으로 하는 데이터분석\n",
      "li= HTML5/CSS3\n"
     ]
    }
   ],
   "source": [
    "# 5. CSS처리 : select_one() / select()\n",
    "# soup.select?\n",
    "\n",
    "html ='''\n",
    "<html><body>\n",
    "    <div id=\"main\">\n",
    "        <h1>도서목록</h1>\n",
    "        <ul class='items'>\n",
    "            <li>자바프로그램 입문</li>\n",
    "            <li>파이썬으로 하는 데이터분석</li>\n",
    "            <li>HTML5/CSS3</li>\n",
    "        </ul>\n",
    "    </div>\n",
    "</body></html>\n",
    "'''\n",
    "\n",
    "# html분석\n",
    "soup = bs(html, 'html.parser')\n",
    "\n",
    "h1 = soup.select_one('div#main > h1').string\n",
    "print(h1)\n",
    "\n",
    "\n",
    "li_list = soup.select('div#main > ul.items > li')\n",
    "for li in li_list:\n",
    "    print('li=', li.string)"
   ]
  },
  {
   "cell_type": "markdown",
   "metadata": {},
   "source": [
    "##### 실습. 네이버금융에서 환율정보 가져오기"
   ]
  },
  {
   "cell_type": "code",
   "execution_count": 33,
   "metadata": {},
   "outputs": [
    {
     "name": "stdout",
     "output_type": "stream",
     "text": [
      "usd/krw= 1,113.50\n"
     ]
    }
   ],
   "source": [
    "import urllib.request as req\n",
    "url = 'https://finance.naver.com/marketindex/'\n",
    "res = req.urlopen(url)\n",
    "soup = bs(res, 'html.parser')\n",
    "\n",
    "ex_rate = soup.select_one('div.head_info > span.value').string\n",
    "print('usd/krw=', ex_rate)"
   ]
  },
  {
   "cell_type": "markdown",
   "metadata": {},
   "source": [
    "##### 실습. 기상청의 일기예보"
   ]
  },
  {
   "cell_type": "code",
   "execution_count": 36,
   "metadata": {},
   "outputs": [
    {
     "name": "stdout",
     "output_type": "stream",
     "text": [
      "기상청 육상 중기예보\n",
      "○ (강수) 5월 4일(화) 오후부터 5일(수) 오전 사이 전국에 비가 오겠습니다.\n",
      "○ (기온) 이번 예보기간 아침 기온은 7~16도로 어제(29일, 아침최저기온 8~15도)와 비슷하겠고, 낮 기온은 17~27도로 어제(29일, 낮최고기온 18~25도)와 비슷하거나 조금 높겠습니다.\n"
     ]
    }
   ],
   "source": [
    "from bs4 import BeautifulSoup as bs\n",
    "import urllib.request as req\n",
    "\n",
    "url = 'https://www.weather.go.kr/weather/forecast/mid-term-rss3.jsp'\n",
    "res = req.urlopen(url)\n",
    "soup = bs(res, 'html.parser')\n",
    "\n",
    "title = soup.find('title').string\n",
    "print(title)\n",
    "\n",
    "wf = soup.find('wf').string\n",
    "wf = wf.replace('<br />', '\\n')\n",
    "print(wf)"
   ]
  }
 ],
 "metadata": {
  "kernelspec": {
   "display_name": "Python 3",
   "language": "python",
   "name": "python3"
  },
  "language_info": {
   "codemirror_mode": {
    "name": "ipython",
    "version": 3
   },
   "file_extension": ".py",
   "mimetype": "text/x-python",
   "name": "python",
   "nbconvert_exporter": "python",
   "pygments_lexer": "ipython3",
   "version": "3.8.5"
  }
 },
 "nbformat": 4,
 "nbformat_minor": 4
}
