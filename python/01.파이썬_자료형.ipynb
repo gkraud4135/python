{
 "cells": [
  {
   "cell_type": "markdown",
   "metadata": {},
   "source": [
    "#### 참고사이트\n",
    "* 파이썬의 순위 : https://tiobe.com/tiobe-index\n",
    "* 파이썬의 추세 : https://stackoverflow.blog/2017/09/06/incredible-growth-python/\n",
    "\n",
    "##### Jupyter Notebook 단축키\n",
    "1. 셀나누기   : `ctrl + shift + -`\n",
    "2. 셀실행하기 : `ctrl + enter`, `shift + enter`,`alt + enter`\n",
    "3. 불럭주석   : `ctrl + /`"
   ]
  },
  {
   "cell_type": "markdown",
   "metadata": {},
   "source": [
    "### A. 파이썬 기본문법\n",
    "\n",
    "#### 1. 세미콜론"
   ]
  },
  {
   "cell_type": "code",
   "execution_count": 7,
   "metadata": {},
   "outputs": [
    {
     "name": "stdout",
     "output_type": "stream",
     "text": [
      "Hello Python\n",
      "안녕하세요? 파이썬!!\n"
     ]
    }
   ],
   "source": [
    "# 파이썬은 기본적으로 세미클론을 붙이지 않는다.\n",
    "# 단, 세미콜론을 붙여도 문법에러는 발생하지 않는다.\n",
    "# 보통 한줄에 여러 구문을 사용할 때 세미콜론으로 구분한다.\n",
    "print(\"Hello Python\"); print(\"안녕하세요? 파이썬!!\")"
   ]
  },
  {
   "cell_type": "markdown",
   "metadata": {},
   "source": [
    "#### 2. 주석\n",
    "\n",
    "* 한줄 주석은 #으로 시작, 여러줄은 주석은 ''' or \"\"\"으로 시작과 끝으로 정의\n",
    "* 파이썬에서 문자열을 작은 따옴표(')와 큰 따옴표(\")는 구분없이 사용"
   ]
  },
  {
   "cell_type": "code",
   "execution_count": 14,
   "metadata": {},
   "outputs": [
    {
     "data": {
      "text/plain": [
       "'\\n여러줄주석\\n'"
      ]
     },
     "execution_count": 14,
     "metadata": {},
     "output_type": "execute_result"
    }
   ],
   "source": [
    "# 한줄주석\n",
    "# 더하기\n",
    "# print(\"Hello Python\");\n",
    "\"\"\"\n",
    "여러줄주석\n",
    "\"\"\"\n",
    "'''\n",
    "여러줄주석\n",
    "'''"
   ]
  },
  {
   "cell_type": "markdown",
   "metadata": {},
   "source": [
    "#### 3. 들여쓰기\n",
    "\n",
    "파이썬은 공백2칸, 4칸, 탭등을 사용해서 블럭을 구분한다. 파이썬코딩스타일가이드(PEP8)에서는 공백 4칸을 규정하고 있다."
   ]
  },
  {
   "cell_type": "code",
   "execution_count": 23,
   "metadata": {},
   "outputs": [
    {
     "name": "stdout",
     "output_type": "stream",
     "text": [
      "들여쓰기\n",
      "다음줄\n"
     ]
    }
   ],
   "source": [
    "a = 10\n",
    "if a==10:\n",
    "    print(\"들여쓰기\")\n",
    "    print(\"다음줄\")"
   ]
  },
  {
   "cell_type": "markdown",
   "metadata": {},
   "source": [
    "### B. 자료형\n",
    "\n",
    "#### 1. 숫자형 : int / float / complex"
   ]
  },
  {
   "cell_type": "code",
   "execution_count": 34,
   "metadata": {},
   "outputs": [
    {
     "ename": "TypeError",
     "evalue": "'int' object is not callable",
     "output_type": "error",
     "traceback": [
      "\u001b[1;31m---------------------------------------------------------------------------\u001b[0m",
      "\u001b[1;31mTypeError\u001b[0m                                 Traceback (most recent call last)",
      "\u001b[1;32m<ipython-input-34-a61cdf0b11ce>\u001b[0m in \u001b[0;36m<module>\u001b[1;34m\u001b[0m\n\u001b[0;32m      2\u001b[0m \u001b[0mb\u001b[0m \u001b[1;33m=\u001b[0m \u001b[1;33m-\u001b[0m\u001b[1;36m1\u001b[0m\u001b[1;33m\u001b[0m\u001b[1;33m\u001b[0m\u001b[0m\n\u001b[0;32m      3\u001b[0m \u001b[0mc\u001b[0m \u001b[1;33m=\u001b[0m \u001b[1;36m1.0\u001b[0m\u001b[1;33m\u001b[0m\u001b[1;33m\u001b[0m\u001b[0m\n\u001b[1;32m----> 4\u001b[1;33m \u001b[0mprint\u001b[0m\u001b[1;33m(\u001b[0m\u001b[0ma\u001b[0m\u001b[1;33m)\u001b[0m\u001b[1;33m;\u001b[0m \u001b[0mprint\u001b[0m\u001b[1;33m(\u001b[0m\u001b[0mb\u001b[0m\u001b[1;33m)\u001b[0m\u001b[1;33m;\u001b[0m\u001b[0mprint\u001b[0m\u001b[1;33m(\u001b[0m\u001b[0mc\u001b[0m\u001b[1;33m)\u001b[0m\u001b[1;33m;\u001b[0m\u001b[1;33m\u001b[0m\u001b[1;33m\u001b[0m\u001b[0m\n\u001b[0m\u001b[0;32m      5\u001b[0m \u001b[0mprint\u001b[0m\u001b[1;33m(\u001b[0m\u001b[0ma\u001b[0m\u001b[1;33m,\u001b[0m \u001b[0mb\u001b[0m\u001b[1;33m,\u001b[0m \u001b[0mc\u001b[0m\u001b[1;33m)\u001b[0m\u001b[1;33m\u001b[0m\u001b[1;33m\u001b[0m\u001b[0m\n\u001b[0;32m      6\u001b[0m \u001b[1;33m\u001b[0m\u001b[0m\n",
      "\u001b[1;31mTypeError\u001b[0m: 'int' object is not callable"
     ]
    }
   ],
   "source": [
    "a = 1\n",
    "b = -1\n",
    "c = 1.0\n",
    "print(a); print(b);print(c);\n",
    "print(a, b, c)\n",
    "\n",
    "# 자료형확인함수 type()\n",
    "type(a)\n",
    "\n",
    "# 함수는 함수명()형태로 호출\n",
    "print(type(a))\n",
    "\n",
    "a = '문자열'\n",
    "print(type(a))\n",
    "\n",
    "a = \"문자열\"\n",
    "print(type(a))\n",
    "\n",
    "# print = 10\n",
    "# print"
   ]
  },
  {
   "cell_type": "code",
   "execution_count": 7,
   "metadata": {},
   "outputs": [
    {
     "name": "stdout",
     "output_type": "stream",
     "text": [
      "더하기 =  2\n",
      "빼기   =  0\n",
      "곱하기 =  4\n",
      "나누기 =  5.0\n",
      "나머지 연산 =  3\n",
      "몫만 반환하는 연산 =  1\n",
      "\n",
      "제곱연산자 =  8\n"
     ]
    }
   ],
   "source": [
    "# 4칙연산\n",
    "print('더하기 = ', 1+1)\n",
    "print('빼기   = ', 1-1)\n",
    "print('곱하기 = ', 2*2)\n",
    "print('나누기 = ', 10/2)\n",
    "\n",
    "# 나머지연산자\n",
    "print(\"나머지 연산 = \", 7%4)\n",
    "print(\"몫만 반환하는 연산 = \", 7//4)\n",
    "print()\n",
    "\n",
    "# 제곱연산자\n",
    "print(\"제곱연산자 = \", 2**3)"
   ]
  },
  {
   "cell_type": "code",
   "execution_count": 11,
   "metadata": {},
   "outputs": [
    {
     "name": "stdout",
     "output_type": "stream",
     "text": [
      "<class 'float'>\n",
      "['__abs__', '__add__', '__bool__', '__class__', '__delattr__', '__dir__', '__divmod__', '__doc__', '__eq__', '__float__', '__floordiv__', '__format__', '__ge__', '__getattribute__', '__getformat__', '__getnewargs__', '__gt__', '__hash__', '__init__', '__init_subclass__', '__int__', '__le__', '__lt__', '__mod__', '__mul__', '__ne__', '__neg__', '__new__', '__pos__', '__pow__', '__radd__', '__rdivmod__', '__reduce__', '__reduce_ex__', '__repr__', '__rfloordiv__', '__rmod__', '__rmul__', '__round__', '__rpow__', '__rsub__', '__rtruediv__', '__set_format__', '__setattr__', '__sizeof__', '__str__', '__sub__', '__subclasshook__', '__truediv__', '__trunc__', 'as_integer_ratio', 'conjugate', 'fromhex', 'hex', 'imag', 'is_integer', 'real']\n"
     ]
    }
   ],
   "source": [
    "# 숫자관련함수\n",
    "f = 1.0\n",
    "print(type(f))\n",
    "print(dir(f))"
   ]
  },
  {
   "cell_type": "markdown",
   "metadata": {},
   "source": [
    "#### 2. 문자형 : str\n",
    "\n",
    "문자열(String str)이란 문자의 집합을 의미한다. 파이썬에서는 작은 따옴표, 큰 따옴표구분없이 정의한다. 또한 여러줄로 문자열을 정의할 경우에는 큰따옴표를 연속해서 감싸서 정의한다."
   ]
  },
  {
   "cell_type": "code",
   "execution_count": 16,
   "metadata": {},
   "outputs": [
    {
     "name": "stdout",
     "output_type": "stream",
     "text": [
      "문자열의 정의방법(1) - 작은 따옴표\n",
      "문자열의 정의방법(2) - 큰 따옴표\n",
      "문자열 정의방법(3)\n",
      "연속으로 3개의 큰 따옴표\n",
      "\n",
      "<class 'str'> <class 'str'> <class 'str'>\n"
     ]
    }
   ],
   "source": [
    "a = '문자열의 정의방법(1) - 작은 따옴표'\n",
    "b = \"문자열의 정의방법(2) - 큰 따옴표\"\n",
    "c = \"\"\"문자열 정의방법(3)\n",
    "연속으로 3개의 큰 따옴표\n",
    "\"\"\"\n",
    "print(a, b, c, sep=\"\\n\")\n",
    "print(type(a), type(b), type(c))"
   ]
  },
  {
   "cell_type": "code",
   "execution_count": 19,
   "metadata": {},
   "outputs": [
    {
     "name": "stdout",
     "output_type": "stream",
     "text": [
      "Help on built-in function print in module builtins:\n",
      "\n",
      "print(...)\n",
      "    print(value, ..., sep=' ', end='\\n', file=sys.stdout, flush=False)\n",
      "    \n",
      "    Prints the values to a stream, or to sys.stdout by default.\n",
      "    Optional keyword arguments:\n",
      "    file:  a file-like object (stream); defaults to the current sys.stdout.\n",
      "    sep:   string inserted between values, default a space.\n",
      "    end:   string appended after the last value, default a newline.\n",
      "    flush: whether to forcibly flush the stream.\n",
      "\n"
     ]
    }
   ],
   "source": [
    "print?\n",
    "?print\n",
    "help(print)"
   ]
  },
  {
   "cell_type": "code",
   "execution_count": 25,
   "metadata": {},
   "outputs": [
    {
     "data": {
      "text/plain": [
       "'문자열문자열문자열문자열문자열'"
      ]
     },
     "execution_count": 25,
     "metadata": {},
     "output_type": "execute_result"
    }
   ],
   "source": [
    "# 문자열 연산하기 : 파이썬에서는 문자열을 연산할 때 자료형이 틀리면 에러가 발생한다.\n",
    "# 곱하기(*) = 반복하기\n",
    "a = \"문자열\" * 5\n",
    "a"
   ]
  },
  {
   "cell_type": "code",
   "execution_count": 28,
   "metadata": {},
   "outputs": [
    {
     "name": "stdout",
     "output_type": "stream",
     "text": [
      "Python is a simple program language\n"
     ]
    }
   ],
   "source": [
    "# a = \"문자열\" + 1 # 타입에러\n",
    "a = \"문자열\" + '1'\n",
    "a\n",
    "head = \"Python \"\n",
    "tail = 'is a simple program language'\n",
    "print(head + tail)"
   ]
  },
  {
   "cell_type": "code",
   "execution_count": 30,
   "metadata": {},
   "outputs": [
    {
     "name": "stdout",
     "output_type": "stream",
     "text": [
      "Python Python Python Python Python Python Python Python Python Python \n",
      "--------------------------------------------------------------------------------\n"
     ]
    }
   ],
   "source": [
    "print(head*10)\n",
    "print('-' * 80)"
   ]
  },
  {
   "cell_type": "markdown",
   "metadata": {},
   "source": [
    "##### 문자열 인덱싱/슬라이싱\n",
    "\n",
    "1. 인덱싱이란? 문자열의 특정위치를 가리키는 것이다.\n",
    "1. 슬라이싱이란? 문자열의 특정위치의 문자(열)을 추출하는 것이다.\n",
    "1. 인덱싱의 설정은 대괄호[]로 구분한다."
   ]
  },
  {
   "cell_type": "code",
   "execution_count": 40,
   "metadata": {},
   "outputs": [
    {
     "name": "stdout",
     "output_type": "stream",
     "text": [
      "안녕하세요 파이썬\n",
      "안\n",
      "썬\n",
      "썬\n",
      "요\n",
      "요\n",
      "\n",
      "안\n",
      "썬\n"
     ]
    },
    {
     "ename": "IndexError",
     "evalue": "string index out of range",
     "output_type": "error",
     "traceback": [
      "\u001b[1;31m---------------------------------------------------------------------------\u001b[0m",
      "\u001b[1;31mIndexError\u001b[0m                                Traceback (most recent call last)",
      "\u001b[1;32m<ipython-input-40-b1d708581ef9>\u001b[0m in \u001b[0;36m<module>\u001b[1;34m\u001b[0m\n\u001b[0;32m     14\u001b[0m \u001b[1;33m\u001b[0m\u001b[0m\n\u001b[0;32m     15\u001b[0m \u001b[1;31m# 인덱스를 벗어나면 에러가 발생\u001b[0m\u001b[1;33m\u001b[0m\u001b[1;33m\u001b[0m\u001b[1;33m\u001b[0m\u001b[0m\n\u001b[1;32m---> 16\u001b[1;33m \u001b[0mprint\u001b[0m\u001b[1;33m(\u001b[0m\u001b[1;34m\"안녕하세요 파이썬\"\u001b[0m\u001b[1;33m[\u001b[0m\u001b[1;33m-\u001b[0m\u001b[1;36m100\u001b[0m\u001b[1;33m]\u001b[0m\u001b[1;33m)\u001b[0m\u001b[1;33m\u001b[0m\u001b[1;33m\u001b[0m\u001b[0m\n\u001b[0m",
      "\u001b[1;31mIndexError\u001b[0m: string index out of range"
     ]
    }
   ],
   "source": [
    "# 1. 문자열의 인덱싱\n",
    "# 인덱수가 양수일 경우 처음부터 시작, 음수일 경우에는 맨 뒤에서부터 시작된다.\n",
    "a = \"안녕하세요 파이썬\"\n",
    "print(a)\n",
    "print(a[0])\n",
    "print(a[-1])\n",
    "print(a[8])\n",
    "print(a[4])\n",
    "print(a[-5])\n",
    "print()\n",
    "\n",
    "print(\"안녕하세요 파이썬\"[0])\n",
    "print(\"안녕하세요 파이썬\"[-1])\n",
    "\n",
    "# 인덱스를 벗어나면 에러가 발생\n",
    "print(\"안녕하세요 파이썬\"[-100])"
   ]
  },
  {
   "cell_type": "code",
   "execution_count": 53,
   "metadata": {},
   "outputs": [
    {
     "name": "stdout",
     "output_type": "stream",
     "text": [
      "2021\n",
      "20210429파이썬 20210429파이썬\n",
      "2021\n",
      "2021\n",
      "파이썬\n",
      "파이썬\n",
      "\n",
      "문자열의 길이 =  11\n",
      "파이썬\n",
      "20210429파이썬\n"
     ]
    }
   ],
   "source": [
    "# 2. 문자열의 슬라이싱\n",
    "a = '20210429파이썬'\n",
    "\n",
    "# 년도추출\n",
    "print(a[0]+a[1]+a[2]+a[3]) # 인덱싱\n",
    "\n",
    "# 슬라이싱 : 대괄호 즉 [start:end-1]\n",
    "print(a, a[:])\n",
    "print(a[0:4])\n",
    "print(a[:4])\n",
    "\n",
    "# 파이썬만 추출하기\n",
    "print(a[8:])\n",
    "print(a[-3:])\n",
    "print()\n",
    "\n",
    "# len()\n",
    "print(\"문자열의 길이 = \", len(a))\n",
    "print(a[8:len(a)])\n",
    "print(a[:len(a)])"
   ]
  },
  {
   "cell_type": "code",
   "execution_count": 54,
   "metadata": {},
   "outputs": [
    {
     "name": "stdout",
     "output_type": "stream",
     "text": [
      "년도= 2021 월= 04 일= 29\n"
     ]
    }
   ],
   "source": [
    "# 실습1\n",
    "a = '20210429파이썬'\n",
    "\n",
    "# 년월일을 각각 추출\n",
    "year = a[:4]\n",
    "month = a[4:6]\n",
    "day = a[6:8]\n",
    "print('년도=', year, \"월=\", month, \"일=\", day)"
   ]
  },
  {
   "cell_type": "code",
   "execution_count": 56,
   "metadata": {},
   "outputs": [
    {
     "name": "stdout",
     "output_type": "stream",
     "text": [
      "Python\n"
     ]
    }
   ],
   "source": [
    "# 문자열을 직접변경할 수 없다.\n",
    "# 파이썬에서는 자료를 직접 변경이 불가능한 자료형을 immutable자료형이라고 한다.\n",
    "# 파이썬에서는 이런 자료형을 문자형과 튜플일 경우 변경할 수 없다.\n",
    "a = 'Pithon'\n",
    "# a[1] = 'y' # 직접변경불가\n",
    "a = a[:1] + 'y' + a[2:]\n",
    "print(a)"
   ]
  },
  {
   "cell_type": "markdown",
   "metadata": {},
   "source": [
    "##### 문자열관련함수"
   ]
  },
  {
   "cell_type": "code",
   "execution_count": 63,
   "metadata": {},
   "outputs": [
    {
     "name": "stdout",
     "output_type": "stream",
     "text": [
      "문자 o의 갯수 =  3\n",
      "문자 o의 갯수 =  3\n",
      "문자 Life의 갯수 =  1\n",
      "문자 life의 갯수 =  0\n",
      "문자 short 갯수 =  1\n",
      "문자 short 갯수 =  0\n"
     ]
    }
   ],
   "source": [
    "# 1. count()\n",
    "a = 'Life is too short'\n",
    "print(\"문자 o의 갯수 = \", a.count('o'))\n",
    "print(\"문자 o의 갯수 = \", 'Life is too short'.count('o'))\n",
    "print(\"문자 Life의 갯수 = \", a.count('Life'))\n",
    "print(\"문자 life의 갯수 = \", a.count('life'))\n",
    "print(\"문자 short 갯수 = \", a.count('short'))\n",
    "print(\"문자 short 갯수 = \", a[:5].count('short'))"
   ]
  },
  {
   "cell_type": "code",
   "execution_count": 65,
   "metadata": {},
   "outputs": [
    {
     "name": "stdout",
     "output_type": "stream",
     "text": [
      "문자 a의 위치 = 10\n",
      "문자 x의 위치 = -1\n"
     ]
    }
   ],
   "source": [
    "# 2. find()\n",
    "a = 'Python is a simple program language'\n",
    "print('문자 a의 위치 =', a.find('a'))\n",
    "print('문자 x의 위치 =', a.find('x'))"
   ]
  },
  {
   "cell_type": "code",
   "execution_count": 67,
   "metadata": {},
   "outputs": [
    {
     "name": "stdout",
     "output_type": "stream",
     "text": [
      "문자 a의 위치 = 10\n"
     ]
    },
    {
     "ename": "ValueError",
     "evalue": "substring not found",
     "output_type": "error",
     "traceback": [
      "\u001b[1;31m---------------------------------------------------------------------------\u001b[0m",
      "\u001b[1;31mValueError\u001b[0m                                Traceback (most recent call last)",
      "\u001b[1;32m<ipython-input-67-1b19a4e3d533>\u001b[0m in \u001b[0;36m<module>\u001b[1;34m\u001b[0m\n\u001b[0;32m      2\u001b[0m \u001b[0ma\u001b[0m \u001b[1;33m=\u001b[0m \u001b[1;34m'Python is a simple program language'\u001b[0m\u001b[1;33m\u001b[0m\u001b[1;33m\u001b[0m\u001b[0m\n\u001b[0;32m      3\u001b[0m \u001b[0mprint\u001b[0m\u001b[1;33m(\u001b[0m\u001b[1;34m'문자 a의 위치 ='\u001b[0m\u001b[1;33m,\u001b[0m \u001b[0ma\u001b[0m\u001b[1;33m.\u001b[0m\u001b[0mindex\u001b[0m\u001b[1;33m(\u001b[0m\u001b[1;34m'a'\u001b[0m\u001b[1;33m)\u001b[0m\u001b[1;33m)\u001b[0m\u001b[1;33m\u001b[0m\u001b[1;33m\u001b[0m\u001b[0m\n\u001b[1;32m----> 4\u001b[1;33m \u001b[0mprint\u001b[0m\u001b[1;33m(\u001b[0m\u001b[1;34m'문자 x의 위치 ='\u001b[0m\u001b[1;33m,\u001b[0m \u001b[0ma\u001b[0m\u001b[1;33m.\u001b[0m\u001b[0mindex\u001b[0m\u001b[1;33m(\u001b[0m\u001b[1;34m'x'\u001b[0m\u001b[1;33m)\u001b[0m\u001b[1;33m)\u001b[0m\u001b[1;33m\u001b[0m\u001b[1;33m\u001b[0m\u001b[0m\n\u001b[0m",
      "\u001b[1;31mValueError\u001b[0m: substring not found"
     ]
    }
   ],
   "source": [
    "# 3. index()\n",
    "a = 'Python is a simple program language'\n",
    "print('문자 a의 위치 =', a.index('a'))\n",
    "print('문자 x의 위치 =', a.index('x'))"
   ]
  },
  {
   "cell_type": "code",
   "execution_count": 72,
   "metadata": {},
   "outputs": [
    {
     "name": "stdout",
     "output_type": "stream",
     "text": [
      "abcde\n",
      "a,b,c,d,e\n",
      "a,b,c,d,e\n",
      "a@b@c@d@e\n",
      "a-------------------b-------------------c-------------------d-------------------e\n"
     ]
    }
   ],
   "source": [
    "# 4. join(iterable)\n",
    "# a.join?\n",
    "print('abcde')\n",
    "print('a,b,c,d,e')\n",
    "\n",
    "a = ','\n",
    "print(a.join('abcde'))\n",
    "print('@'.join('abcde'))\n",
    "print('-------------------'.join('abcde'))"
   ]
  },
  {
   "cell_type": "code",
   "execution_count": 79,
   "metadata": {},
   "outputs": [
    {
     "name": "stdout",
     "output_type": "stream",
     "text": [
      "HI\n",
      "HI       \n",
      "HI\n",
      "    HI\n",
      "H  I\n"
     ]
    }
   ],
   "source": [
    "# 5. strip(),, lstrip(), rstrip() : 공백제거\n",
    "a = '        HI'\n",
    "b = ' HI       '\n",
    "c = '    HI    '\n",
    "d = '   H  I   '\n",
    "print(a.lstrip())\n",
    "print(b.lstrip())\n",
    "print(c.strip())\n",
    "print(c.rstrip())\n",
    "print(d.strip())"
   ]
  },
  {
   "cell_type": "code",
   "execution_count": 87,
   "metadata": {
    "scrolled": false
   },
   "outputs": [
    {
     "name": "stdout",
     "output_type": "stream",
     "text": [
      "Python is a simple program language\n",
      "P#thon #s a s#mple program language\n",
      "P@thon #s a s#mple program language\n",
      "Java #s a s#mple program language\n"
     ]
    }
   ],
   "source": [
    "# 6. replace(old, new, count=-1)\n",
    "a = 'Pithon is a simple program language'\n",
    "print(a.replace('Pithon', 'Python'))\n",
    "a = a.replace('i', '#', -1)\n",
    "print(a)\n",
    "a = a.replace('#', '@', 1)\n",
    "print(a)\n",
    "\n",
    "a = a.replace('P@thon', 'Java')\n",
    "print(a)"
   ]
  },
  {
   "cell_type": "code",
   "execution_count": 98,
   "metadata": {},
   "outputs": [
    {
     "name": "stdout",
     "output_type": "stream",
     "text": [
      "['Pithon', 'is', 'a', 'simple', 'program', 'language']\n",
      "['a', 'b', 'c', 'd']\n",
      "['a', '', 'b', '', 'c', '', 'd']\n",
      "['a', 'b', 'c', 'd']\n",
      "a::b::c::d ['a', 'b', 'c', 'd'] <class 'list'>\n"
     ]
    }
   ],
   "source": [
    "# 7. split(구분자)\n",
    "a = 'Pithon is a simple program language'\n",
    "print(a.split())\n",
    "\n",
    "a = 'a,b,c,d'\n",
    "print(a.split(','))\n",
    "\n",
    "a = 'a::b::c::d'\n",
    "print(a.split(':'))\n",
    "print(a.split('::'))\n",
    "x = a.split('::')\n",
    "print(a, x, type(x))"
   ]
  },
  {
   "cell_type": "markdown",
   "metadata": {},
   "source": [
    "#### 3. 리스트 : list   []"
   ]
  },
  {
   "cell_type": "code",
   "execution_count": 102,
   "metadata": {},
   "outputs": [
    {
     "name": "stdout",
     "output_type": "stream",
     "text": [
      "<class 'list'> <class 'list'>\n",
      "['__add__', '__class__', '__contains__', '__delattr__', '__delitem__', '__dir__', '__doc__', '__eq__', '__format__', '__ge__', '__getattribute__', '__getitem__', '__gt__', '__hash__', '__iadd__', '__imul__', '__init__', '__init_subclass__', '__iter__', '__le__', '__len__', '__lt__', '__mul__', '__ne__', '__new__', '__reduce__', '__reduce_ex__', '__repr__', '__reversed__', '__rmul__', '__setattr__', '__setitem__', '__sizeof__', '__str__', '__subclasshook__', 'append', 'clear', 'copy', 'count', 'extend', 'index', 'insert', 'pop', 'remove', 'reverse', 'sort']\n",
      "Help on list object:\n",
      "\n",
      "class list(object)\n",
      " |  list(iterable=(), /)\n",
      " |  \n",
      " |  Built-in mutable sequence.\n",
      " |  \n",
      " |  If no argument is given, the constructor creates a new empty list.\n",
      " |  The argument must be an iterable if specified.\n",
      " |  \n",
      " |  Methods defined here:\n",
      " |  \n",
      " |  __add__(self, value, /)\n",
      " |      Return self+value.\n",
      " |  \n",
      " |  __contains__(self, key, /)\n",
      " |      Return key in self.\n",
      " |  \n",
      " |  __delitem__(self, key, /)\n",
      " |      Delete self[key].\n",
      " |  \n",
      " |  __eq__(self, value, /)\n",
      " |      Return self==value.\n",
      " |  \n",
      " |  __ge__(self, value, /)\n",
      " |      Return self>=value.\n",
      " |  \n",
      " |  __getattribute__(self, name, /)\n",
      " |      Return getattr(self, name).\n",
      " |  \n",
      " |  __getitem__(...)\n",
      " |      x.__getitem__(y) <==> x[y]\n",
      " |  \n",
      " |  __gt__(self, value, /)\n",
      " |      Return self>value.\n",
      " |  \n",
      " |  __iadd__(self, value, /)\n",
      " |      Implement self+=value.\n",
      " |  \n",
      " |  __imul__(self, value, /)\n",
      " |      Implement self*=value.\n",
      " |  \n",
      " |  __init__(self, /, *args, **kwargs)\n",
      " |      Initialize self.  See help(type(self)) for accurate signature.\n",
      " |  \n",
      " |  __iter__(self, /)\n",
      " |      Implement iter(self).\n",
      " |  \n",
      " |  __le__(self, value, /)\n",
      " |      Return self<=value.\n",
      " |  \n",
      " |  __len__(self, /)\n",
      " |      Return len(self).\n",
      " |  \n",
      " |  __lt__(self, value, /)\n",
      " |      Return self<value.\n",
      " |  \n",
      " |  __mul__(self, value, /)\n",
      " |      Return self*value.\n",
      " |  \n",
      " |  __ne__(self, value, /)\n",
      " |      Return self!=value.\n",
      " |  \n",
      " |  __repr__(self, /)\n",
      " |      Return repr(self).\n",
      " |  \n",
      " |  __reversed__(self, /)\n",
      " |      Return a reverse iterator over the list.\n",
      " |  \n",
      " |  __rmul__(self, value, /)\n",
      " |      Return value*self.\n",
      " |  \n",
      " |  __setitem__(self, key, value, /)\n",
      " |      Set self[key] to value.\n",
      " |  \n",
      " |  __sizeof__(self, /)\n",
      " |      Return the size of the list in memory, in bytes.\n",
      " |  \n",
      " |  append(self, object, /)\n",
      " |      Append object to the end of the list.\n",
      " |  \n",
      " |  clear(self, /)\n",
      " |      Remove all items from list.\n",
      " |  \n",
      " |  copy(self, /)\n",
      " |      Return a shallow copy of the list.\n",
      " |  \n",
      " |  count(self, value, /)\n",
      " |      Return number of occurrences of value.\n",
      " |  \n",
      " |  extend(self, iterable, /)\n",
      " |      Extend list by appending elements from the iterable.\n",
      " |  \n",
      " |  index(self, value, start=0, stop=9223372036854775807, /)\n",
      " |      Return first index of value.\n",
      " |      \n",
      " |      Raises ValueError if the value is not present.\n",
      " |  \n",
      " |  insert(self, index, object, /)\n",
      " |      Insert object before index.\n",
      " |  \n",
      " |  pop(self, index=-1, /)\n",
      " |      Remove and return item at index (default last).\n",
      " |      \n",
      " |      Raises IndexError if list is empty or index is out of range.\n",
      " |  \n",
      " |  remove(self, value, /)\n",
      " |      Remove first occurrence of value.\n",
      " |      \n",
      " |      Raises ValueError if the value is not present.\n",
      " |  \n",
      " |  reverse(self, /)\n",
      " |      Reverse *IN PLACE*.\n",
      " |  \n",
      " |  sort(self, /, *, key=None, reverse=False)\n",
      " |      Sort the list in ascending order and return None.\n",
      " |      \n",
      " |      The sort is in-place (i.e. the list itself is modified) and stable (i.e. the\n",
      " |      order of two equal elements is maintained).\n",
      " |      \n",
      " |      If a key function is given, apply it once to each list item and sort them,\n",
      " |      ascending or descending, according to their function values.\n",
      " |      \n",
      " |      The reverse flag can be set to sort in descending order.\n",
      " |  \n",
      " |  ----------------------------------------------------------------------\n",
      " |  Static methods defined here:\n",
      " |  \n",
      " |  __new__(*args, **kwargs) from builtins.type\n",
      " |      Create and return a new object.  See help(type) for accurate signature.\n",
      " |  \n",
      " |  ----------------------------------------------------------------------\n",
      " |  Data and other attributes defined here:\n",
      " |  \n",
      " |  __hash__ = None\n",
      "\n"
     ]
    }
   ],
   "source": [
    "# 빈 리스트객체 정의\n",
    "a = []\n",
    "print(type(a), type([]))\n",
    "print(dir([]))\n",
    "\n",
    "# 자료형, 함수등의 도움말\n",
    "# 1. 변수명?, ?변수명,, help()\n",
    "# 2. type()함수\n",
    "# 3. dir()함수\n",
    "help(a)"
   ]
  },
  {
   "cell_type": "code",
   "execution_count": 106,
   "metadata": {},
   "outputs": [
    {
     "name": "stdout",
     "output_type": "stream",
     "text": [
      "[] [1, 2, 3] ['a', 'c', 'ccc'] [1, 1.0, 'a', <built-in function print>, [1, 2], (1, 1)]\n",
      "djdjdjdj\n",
      "woifdhasodifjoa \n"
     ]
    }
   ],
   "source": [
    "# 리스트객체선언하기\n",
    "a = [] # 빈객체\n",
    "b = [1,2,3,]\n",
    "c = ['a', 'c','ccc'] \n",
    "d = [1, 1.0, 'a', print, [1,2], (1,1)] # 리스트안에는 어떠한 자료도 선언가능\n",
    "print(a,b,c,d)\n",
    "d[3]('djdjdjdj')\n",
    "print('woifdhasodifjoa ')"
   ]
  },
  {
   "cell_type": "markdown",
   "metadata": {},
   "source": [
    "##### 1. 리스트의 인덱싱과 슬라이싱"
   ]
  },
  {
   "cell_type": "code",
   "execution_count": 111,
   "metadata": {},
   "outputs": [
    {
     "name": "stdout",
     "output_type": "stream",
     "text": [
      "1 [4, 5] <built-in function print>\n",
      "3\n"
     ]
    },
    {
     "ename": "TypeError",
     "evalue": "unsupported operand type(s) for +: 'int' and 'builtin_function_or_method'",
     "output_type": "error",
     "traceback": [
      "\u001b[1;31m---------------------------------------------------------------------------\u001b[0m",
      "\u001b[1;31mTypeError\u001b[0m                                 Traceback (most recent call last)",
      "\u001b[1;32m<ipython-input-111-aef8fea24559>\u001b[0m in \u001b[0;36m<module>\u001b[1;34m\u001b[0m\n\u001b[0;32m      4\u001b[0m \u001b[1;33m\u001b[0m\u001b[0m\n\u001b[0;32m      5\u001b[0m \u001b[0mprint\u001b[0m\u001b[1;33m(\u001b[0m\u001b[0ma\u001b[0m\u001b[1;33m[\u001b[0m\u001b[1;36m0\u001b[0m\u001b[1;33m]\u001b[0m \u001b[1;33m+\u001b[0m \u001b[0ma\u001b[0m\u001b[1;33m[\u001b[0m\u001b[1;36m1\u001b[0m\u001b[1;33m]\u001b[0m\u001b[1;33m)\u001b[0m\u001b[1;33m\u001b[0m\u001b[1;33m\u001b[0m\u001b[0m\n\u001b[1;32m----> 6\u001b[1;33m \u001b[0mprint\u001b[0m\u001b[1;33m(\u001b[0m\u001b[0ma\u001b[0m\u001b[1;33m[\u001b[0m\u001b[1;36m0\u001b[0m\u001b[1;33m]\u001b[0m \u001b[1;33m+\u001b[0m \u001b[0ma\u001b[0m\u001b[1;33m[\u001b[0m\u001b[1;33m-\u001b[0m\u001b[1;36m1\u001b[0m\u001b[1;33m]\u001b[0m\u001b[1;33m)\u001b[0m\u001b[1;33m\u001b[0m\u001b[1;33m\u001b[0m\u001b[0m\n\u001b[0m",
      "\u001b[1;31mTypeError\u001b[0m: unsupported operand type(s) for +: 'int' and 'builtin_function_or_method'"
     ]
    }
   ],
   "source": [
    "# 1. 인엑싱\n",
    "a = [1,2,3,'a',[4,5], print]\n",
    "print(a[0], a[-2], a[-1])\n",
    "\n",
    "print(a[0] + a[1])\n",
    "print(a[0] + a[-1])"
   ]
  },
  {
   "cell_type": "code",
   "execution_count": 116,
   "metadata": {},
   "outputs": [
    {
     "name": "stdout",
     "output_type": "stream",
     "text": [
      "1\n",
      "a\n",
      "x\n"
     ]
    }
   ],
   "source": [
    "# 리스트는 java에 배열과 유사한 자료형이다.\n",
    "# 2차원배열을 선언하는 것처럼 list\n",
    "a = [1,2,3,['a', 'b', 'c', ['x', 'y', 'z']]]\n",
    "print(a[0])\n",
    "print(a[3][0])\n",
    "print(a[3][3][0])"
   ]
  },
  {
   "cell_type": "code",
   "execution_count": 120,
   "metadata": {},
   "outputs": [
    {
     "name": "stdout",
     "output_type": "stream",
     "text": [
      "[1, 2, 3, 4, 5] [1, 2]\n",
      "12345 12\n"
     ]
    }
   ],
   "source": [
    "# 2. 슬라이싱\n",
    "a = [1,2,3,4,5]\n",
    "print(a[:], a[:2])\n",
    "\n",
    "b = '12345'\n",
    "print(b[:], b[:2])"
   ]
  },
  {
   "cell_type": "code",
   "execution_count": 126,
   "metadata": {},
   "outputs": [
    {
     "name": "stdout",
     "output_type": "stream",
     "text": [
      "[1, 2, 3, ['a', 'b', 'c'], 4, 5]\n",
      "[3, ['a', 'b', 'c'], 4]\n",
      "['a', 'b', 'c']\n",
      "['a', 'b']\n",
      "['c']\n"
     ]
    }
   ],
   "source": [
    "# 중첩된 리스트에서 슬라이싱\n",
    "a = [1,2,3,['a', 'b', 'c'], 4, 5]\n",
    "print(a)\n",
    "print(a[2:5])\n",
    "print(a[3])\n",
    "print(a[3][:2])\n",
    "print(a[3][2:])"
   ]
  },
  {
   "cell_type": "code",
   "execution_count": 128,
   "metadata": {},
   "outputs": [
    {
     "name": "stdout",
     "output_type": "stream",
     "text": [
      "[1, 2, 3, 1, 2, 3, 1, 2, 3]\n",
      "[1, 2, 3, 'x', 'y', 'z']\n"
     ]
    }
   ],
   "source": [
    "# 리스트 연산하기\n",
    "a = [1,2,3]\n",
    "b = ['x', 'y', 'z']\n",
    "\n",
    "print(a*3)\n",
    "print(a+b)"
   ]
  },
  {
   "cell_type": "markdown",
   "metadata": {},
   "source": [
    "##### 2. 리스트 수정/삭제"
   ]
  },
  {
   "cell_type": "code",
   "execution_count": 133,
   "metadata": {},
   "outputs": [
    {
     "data": {
      "text/plain": [
       "[1, 1, 2, 3, 4, 5]"
      ]
     },
     "execution_count": 133,
     "metadata": {},
     "output_type": "execute_result"
    }
   ],
   "source": [
    "a = [1,2,3]\n",
    "a[1] = 'x'\n",
    "a[1] = ['a', 'b', 'c']\n",
    "a\n",
    "a[1:3] = [1,2,3,4,5]\n",
    "a"
   ]
  },
  {
   "cell_type": "code",
   "execution_count": 136,
   "metadata": {},
   "outputs": [
    {
     "data": {
      "text/plain": [
       "[1, 5]"
      ]
     },
     "execution_count": 136,
     "metadata": {},
     "output_type": "execute_result"
    }
   ],
   "source": [
    "a[1:3]\n",
    "a[1:3] = []\n",
    "a"
   ]
  },
  {
   "cell_type": "code",
   "execution_count": 138,
   "metadata": {},
   "outputs": [
    {
     "data": {
      "text/plain": [
       "[5]"
      ]
     },
     "execution_count": 138,
     "metadata": {},
     "output_type": "execute_result"
    }
   ],
   "source": [
    "a\n",
    "del a[0]\n",
    "a"
   ]
  },
  {
   "cell_type": "code",
   "execution_count": 147,
   "metadata": {},
   "outputs": [
    {
     "name": "stdout",
     "output_type": "stream",
     "text": [
      "['show', 'how', 'to', 'index', 'into', 'sequences']\n",
      "['show', 'how', 'to', 'index', 'into', 'sequences']\n",
      "['show', 'how', 'to', 'index', 'into', 'sequences']\n",
      "['show', 'to', 'into']\n",
      "['show', 'index']\n",
      "['show', 'into']\n",
      "['sequences', 'into', 'index', 'to', 'how', 'show']\n",
      "['sequences', 'index', 'how']\n"
     ]
    }
   ],
   "source": [
    "# list의 step옵션\n",
    "sample = 'show how to index into sequences'.split()\n",
    "print(sample)\n",
    "\n",
    "# list[start:end:step]\n",
    "print(sample[::])\n",
    "print(sample[::1])\n",
    "print(sample[::2])\n",
    "print(sample[::3])\n",
    "print(sample[::4])\n",
    "print(sample[::-1])\n",
    "print(sample[::-2])"
   ]
  },
  {
   "cell_type": "code",
   "execution_count": 148,
   "metadata": {},
   "outputs": [
    {
     "name": "stdout",
     "output_type": "stream",
     "text": [
      "['__add__', '__class__', '__contains__', '__delattr__', '__delitem__', '__dir__', '__doc__', '__eq__', '__format__', '__ge__', '__getattribute__', '__getitem__', '__gt__', '__hash__', '__iadd__', '__imul__', '__init__', '__init_subclass__', '__iter__', '__le__', '__len__', '__lt__', '__mul__', '__ne__', '__new__', '__reduce__', '__reduce_ex__', '__repr__', '__reversed__', '__rmul__', '__setattr__', '__setitem__', '__sizeof__', '__str__', '__subclasshook__', 'append', 'clear', 'copy', 'count', 'extend', 'index', 'insert', 'pop', 'remove', 'reverse', 'sort']\n"
     ]
    }
   ],
   "source": [
    "# list 관련함수\n",
    "print(dir(sample))"
   ]
  },
  {
   "cell_type": "markdown",
   "metadata": {},
   "source": [
    "#### 4. 튜플    : tuple ()\n",
    "\n",
    "list자료형과 거의 유사하며 다른 점은 list는 수정가능, tuple은 수정불가"
   ]
  },
  {
   "cell_type": "code",
   "execution_count": 153,
   "metadata": {},
   "outputs": [
    {
     "name": "stdout",
     "output_type": "stream",
     "text": [
      "<class 'tuple'>\n",
      "['__add__', '__class__', '__contains__', '__delattr__', '__dir__', '__doc__', '__eq__', '__format__', '__ge__', '__getattribute__', '__getitem__', '__getnewargs__', '__gt__', '__hash__', '__init__', '__init_subclass__', '__iter__', '__le__', '__len__', '__lt__', '__mul__', '__ne__', '__new__', '__reduce__', '__reduce_ex__', '__repr__', '__rmul__', '__setattr__', '__sizeof__', '__str__', '__subclasshook__', 'count', 'index']\n",
      "<class 'int'> <class 'int'> <class 'tuple'> <class 'tuple'>\n"
     ]
    }
   ],
   "source": [
    "t = ()\n",
    "print(type(t))\n",
    "print(dir(t))\n",
    "\n",
    "# 요소가 하나일 경우의 tuple\n",
    "t1 = (6)\n",
    "t2 = 6\n",
    "t3 = 6,\n",
    "t4 = (6,)\n",
    "print(type(t1), type(t2), type(t3), type(t4))"
   ]
  },
  {
   "cell_type": "code",
   "execution_count": 156,
   "metadata": {},
   "outputs": [
    {
     "name": "stdout",
     "output_type": "stream",
     "text": [
      "<class 'tuple'> <class 'tuple'>\n"
     ]
    }
   ],
   "source": [
    "# 여러개 있을 경우\n",
    "t5 = (1,2,3,4,5)\n",
    "t6 = 1,2,3,4,5\n",
    "print(type(t5), type(t6))\n",
    "\n",
    "t7 = (1, 1.0, [1,2,3], print, ('x', 'y', 1))"
   ]
  },
  {
   "cell_type": "code",
   "execution_count": 161,
   "metadata": {},
   "outputs": [
    {
     "name": "stdout",
     "output_type": "stream",
     "text": [
      "<class 'list'>\n",
      "<class 'tuple'> (2, 3, 'a', 'b')\n"
     ]
    }
   ],
   "source": [
    "# tuple자료 삭제/수정하기\n",
    "t = 1,2,3,'a','b'\n",
    "# del t[0]\n",
    "\n",
    "l = list(t)\n",
    "print(type(l))\n",
    "del l[0]\n",
    "t = tuple(l)\n",
    "print(type(t), t)"
   ]
  },
  {
   "cell_type": "code",
   "execution_count": 163,
   "metadata": {},
   "outputs": [
    {
     "name": "stdout",
     "output_type": "stream",
     "text": [
      "(1, 2, 3, 'a', 'b')\n",
      "(1, 2, 3, 'a', 'b', 1, 2, 3, 'a', 'b', 1, 2, 3, 'a', 'b', 1, 2, 3, 'a', 'b', 1, 2, 3, 'a', 'b')\n"
     ]
    }
   ],
   "source": [
    "# tuple 연산하기\n",
    "t1 = 1,2,3\n",
    "t2 = 'a', 'b'\n",
    "t = t1 + t2\n",
    "print(t)\n",
    "print(t * 5)"
   ]
  },
  {
   "cell_type": "markdown",
   "metadata": {},
   "source": [
    "#### 5. 딕셔너리 : dict {}\n",
    "\n",
    "* 중괄호로 선언, key와 value을 한 쌍으로 갖는 자료형 java에서 map과 동일한 유형\n",
    "* key는 중복불가 value중복가능 \n",
    "* key값은 mutable한 자료형은 올 수 없다. 즉, 수정가능한 자료형은 key로 정의 불가"
   ]
  },
  {
   "cell_type": "code",
   "execution_count": 168,
   "metadata": {},
   "outputs": [
    {
     "name": "stdout",
     "output_type": "stream",
     "text": [
      "<class 'dict'> <class 'dict'>\n",
      "['__class__', '__contains__', '__delattr__', '__delitem__', '__dir__', '__doc__', '__eq__', '__format__', '__ge__', '__getattribute__', '__getitem__', '__gt__', '__hash__', '__init__', '__init_subclass__', '__iter__', '__le__', '__len__', '__lt__', '__ne__', '__new__', '__reduce__', '__reduce_ex__', '__repr__', '__reversed__', '__setattr__', '__setitem__', '__sizeof__', '__str__', '__subclasshook__', 'clear', 'copy', 'fromkeys', 'get', 'items', 'keys', 'pop', 'popitem', 'setdefault', 'update', 'values']\n"
     ]
    }
   ],
   "source": [
    "a = {}\n",
    "print(type(a), type({}))\n",
    "print(dir({}))"
   ]
  },
  {
   "cell_type": "code",
   "execution_count": 172,
   "metadata": {},
   "outputs": [
    {
     "name": "stdout",
     "output_type": "stream",
     "text": [
      "<class 'dict'> <class 'dict'> <class 'dict'> <class 'dict'>\n"
     ]
    }
   ],
   "source": [
    "a = {1:5, 2:100}\n",
    "b = {(1,2):'값1', '문자':'값2'}\n",
    "# c = {[1,2]:'값1'}\n",
    "d = {1.5:'값', 3.14:'PI'}\n",
    "e = {True:'소향', False:'나얼'}\n",
    "print(type(a), type(b), type(d), type(e), )"
   ]
  },
  {
   "cell_type": "code",
   "execution_count": 173,
   "metadata": {},
   "outputs": [
    {
     "name": "stdout",
     "output_type": "stream",
     "text": [
      "{'k': 1000, 'y': 200}\n"
     ]
    }
   ],
   "source": [
    "# key중복불가\n",
    "a = {'k':1000, 'y':200, 'k':1000}\n",
    "print(a)"
   ]
  },
  {
   "cell_type": "code",
   "execution_count": 175,
   "metadata": {},
   "outputs": [
    {
     "name": "stdout",
     "output_type": "stream",
     "text": [
      "<class 'set'> <class 'set'>\n"
     ]
    }
   ],
   "source": [
    "a = {1}\n",
    "b = {1,2,3,4,5}\n",
    "print(type(a), type(b))"
   ]
  },
  {
   "cell_type": "code",
   "execution_count": 183,
   "metadata": {},
   "outputs": [
    {
     "name": "stdout",
     "output_type": "stream",
     "text": [
      "90\n",
      "90 80 98\n",
      "소향 42\n"
     ]
    }
   ],
   "source": [
    "# 접근하기\n",
    "a = {1:90, 2:80, 3:98}\n",
    "print(a[1]) # dict 1은 index가 아니라 key\n",
    "print(a[1], a[2], a[3]) \n",
    "\n",
    "b = {'name':'소향', 'age':42}\n",
    "print(b['name'], b['age'])"
   ]
  },
  {
   "cell_type": "code",
   "execution_count": 187,
   "metadata": {},
   "outputs": [
    {
     "name": "stdout",
     "output_type": "stream",
     "text": [
      "{'name': '소향', 'age': 42, 'addr': '송도'}\n",
      "{'name': '소향', 'age': 42, 'addr': '서울'}\n",
      "{'name': '소향', 'age': 42, 'addr': '서울', 'func': <built-in function print>}\n"
     ]
    }
   ],
   "source": [
    "b['addr'] = '송도'\n",
    "print(b)\n",
    "b['addr'] = '서울'\n",
    "print(b)\n",
    "b['func'] = print\n",
    "print(b)"
   ]
  },
  {
   "cell_type": "code",
   "execution_count": 191,
   "metadata": {},
   "outputs": [
    {
     "name": "stdout",
     "output_type": "stream",
     "text": [
      "dict_keys(['홍길동', '손흥민', '소향'])\n",
      "dict_values([90, 85, 100])\n",
      "dict_items([('홍길동', 90), ('손흥민', 85), ('소향', 100)])\n"
     ]
    }
   ],
   "source": [
    "# dict관련함수\n",
    "grade = {'홍길동':90, '손흥민':85, '소향':100}\n",
    "print(grade.keys())\n",
    "print(grade.values())\n",
    "print(grade.items())"
   ]
  },
  {
   "cell_type": "code",
   "execution_count": 195,
   "metadata": {},
   "outputs": [
    {
     "name": "stdout",
     "output_type": "stream",
     "text": [
      "100\n",
      "None\n"
     ]
    },
    {
     "ename": "KeyError",
     "evalue": "'소향x'",
     "output_type": "error",
     "traceback": [
      "\u001b[1;31m---------------------------------------------------------------------------\u001b[0m",
      "\u001b[1;31mKeyError\u001b[0m                                  Traceback (most recent call last)",
      "\u001b[1;32m<ipython-input-195-5ff26da54f9e>\u001b[0m in \u001b[0;36m<module>\u001b[1;34m\u001b[0m\n\u001b[0;32m      1\u001b[0m \u001b[0mprint\u001b[0m\u001b[1;33m(\u001b[0m\u001b[0mgrade\u001b[0m\u001b[1;33m.\u001b[0m\u001b[0mget\u001b[0m\u001b[1;33m(\u001b[0m\u001b[1;34m'소향'\u001b[0m\u001b[1;33m)\u001b[0m\u001b[1;33m)\u001b[0m\u001b[1;33m\u001b[0m\u001b[1;33m\u001b[0m\u001b[0m\n\u001b[0;32m      2\u001b[0m \u001b[0mprint\u001b[0m\u001b[1;33m(\u001b[0m\u001b[0mgrade\u001b[0m\u001b[1;33m.\u001b[0m\u001b[0mget\u001b[0m\u001b[1;33m(\u001b[0m\u001b[1;34m'소향x'\u001b[0m\u001b[1;33m)\u001b[0m\u001b[1;33m)\u001b[0m\u001b[1;33m\u001b[0m\u001b[1;33m\u001b[0m\u001b[0m\n\u001b[1;32m----> 3\u001b[1;33m \u001b[0mprint\u001b[0m\u001b[1;33m(\u001b[0m\u001b[0mgrade\u001b[0m\u001b[1;33m[\u001b[0m\u001b[1;34m'소향x'\u001b[0m\u001b[1;33m]\u001b[0m\u001b[1;33m)\u001b[0m\u001b[1;33m\u001b[0m\u001b[1;33m\u001b[0m\u001b[0m\n\u001b[0m",
      "\u001b[1;31mKeyError\u001b[0m: '소향x'"
     ]
    }
   ],
   "source": [
    "print(grade.get('소향'))\n",
    "print(grade.get('소향x'))\n",
    "print(grade['소향x'])"
   ]
  },
  {
   "cell_type": "code",
   "execution_count": 198,
   "metadata": {},
   "outputs": [
    {
     "name": "stdout",
     "output_type": "stream",
     "text": [
      "True\n",
      "False\n"
     ]
    }
   ],
   "source": [
    "print('소향' in grade)\n",
    "print('소향x' in grade)"
   ]
  },
  {
   "cell_type": "markdown",
   "metadata": {},
   "source": [
    "#### 6. 셋 : set {}\n",
    "\n",
    "* 중복허용불가, 순서가 없다. \n",
    "* set의 선언은 중괄호\n",
    "* 집합관련연산"
   ]
  },
  {
   "cell_type": "code",
   "execution_count": 199,
   "metadata": {},
   "outputs": [
    {
     "name": "stdout",
     "output_type": "stream",
     "text": [
      "['__and__', '__class__', '__contains__', '__delattr__', '__dir__', '__doc__', '__eq__', '__format__', '__ge__', '__getattribute__', '__gt__', '__hash__', '__iand__', '__init__', '__init_subclass__', '__ior__', '__isub__', '__iter__', '__ixor__', '__le__', '__len__', '__lt__', '__ne__', '__new__', '__or__', '__rand__', '__reduce__', '__reduce_ex__', '__repr__', '__ror__', '__rsub__', '__rxor__', '__setattr__', '__sizeof__', '__str__', '__sub__', '__subclasshook__', '__xor__', 'add', 'clear', 'copy', 'difference', 'difference_update', 'discard', 'intersection', 'intersection_update', 'isdisjoint', 'issubset', 'issuperset', 'pop', 'remove', 'symmetric_difference', 'symmetric_difference_update', 'union', 'update']\n"
     ]
    }
   ],
   "source": [
    "s = {1}\n",
    "s = {1,2,3}\n",
    "print(dir(s))"
   ]
  },
  {
   "cell_type": "markdown",
   "metadata": {},
   "source": [
    "### C. 제어문\n",
    "\n",
    "#### 1. if"
   ]
  },
  {
   "cell_type": "code",
   "execution_count": 200,
   "metadata": {},
   "outputs": [
    {
     "name": "stdout",
     "output_type": "stream",
     "text": [
      "A\n"
     ]
    }
   ],
   "source": [
    "score = 90\n",
    "\n",
    "if score>=90:\n",
    "    print('A')\n",
    "elif score>=80:\n",
    "    if score>=85:\n",
    "        print('B+')\n",
    "    else:\n",
    "        print('B0')\n",
    "elif score>=70:\n",
    "    print('C')\n",
    "else:\n",
    "    print('기타')"
   ]
  },
  {
   "cell_type": "code",
   "execution_count": 202,
   "metadata": {},
   "outputs": [],
   "source": [
    "if True:\n",
    "    pass"
   ]
  },
  {
   "cell_type": "code",
   "execution_count": 204,
   "metadata": {},
   "outputs": [
    {
     "name": "stdout",
     "output_type": "stream",
     "text": [
      "NG\n"
     ]
    }
   ],
   "source": [
    "books = ['Java', 'Python', 'JavaScript']\n",
    "\n",
    "if 'Python' not in books:\n",
    "    print('OK')\n",
    "else:\n",
    "    print('NG')"
   ]
  },
  {
   "cell_type": "code",
   "execution_count": 207,
   "metadata": {},
   "outputs": [
    {
     "name": "stdout",
     "output_type": "stream",
     "text": [
      "OK\n"
     ]
    }
   ],
   "source": [
    "if 'Python' in ('Java', 'Python', 'JavaScript'):\n",
    "    print('OK')\n",
    "else:\n",
    "    print('NG')"
   ]
  },
  {
   "cell_type": "markdown",
   "metadata": {},
   "source": [
    "#### 2. for"
   ]
  },
  {
   "cell_type": "code",
   "execution_count": 212,
   "metadata": {},
   "outputs": [
    {
     "name": "stdout",
     "output_type": "stream",
     "text": [
      "range(0, 10)\n",
      "0, 1, 2, 3, 4, 5, 6, 7, 8, 9, \n",
      "0, 1, 2, 3, 4, 5, 6, 7, 8, 9, \n",
      "1, 3, 5, 7, 9, "
     ]
    }
   ],
   "source": [
    "a = range(10)\n",
    "print(a)\n",
    "for i in a:\n",
    "    print(i, end=\", \")\n",
    "print()\n",
    "\n",
    "for i in range(10):\n",
    "    print(i, end=\", \")\n",
    "\n",
    "print()\n",
    "\n",
    "for i in range(1, 11, 2):\n",
    "    print(i, end=\", \")"
   ]
  },
  {
   "cell_type": "code",
   "execution_count": 214,
   "metadata": {},
   "outputs": [
    {
     "name": "stdout",
     "output_type": "stream",
     "text": [
      "1~1000까지 합 = 167167\n"
     ]
    }
   ],
   "source": [
    "sum = 0\n",
    "for i in range(1, 1001, 3):\n",
    "    sum += i\n",
    "print(\"1~1000까지 합 =\", sum)"
   ]
  },
  {
   "cell_type": "code",
   "execution_count": 216,
   "metadata": {},
   "outputs": [
    {
     "name": "stdout",
     "output_type": "stream",
     "text": [
      "5050\n"
     ]
    }
   ],
   "source": [
    "# while\n",
    "i = 0\n",
    "sum = 0\n",
    "while i<=100:\n",
    "    sum += i\n",
    "    i += 1\n",
    "print(sum)"
   ]
  },
  {
   "cell_type": "markdown",
   "metadata": {},
   "source": [
    "### D. function"
   ]
  },
  {
   "cell_type": "code",
   "execution_count": 217,
   "metadata": {},
   "outputs": [
    {
     "name": "stdout",
     "output_type": "stream",
     "text": [
      "Hello Function!!\n"
     ]
    }
   ],
   "source": [
    "def hello():\n",
    "    print(\"Hello Function!!\")\n",
    "\n",
    "hello()"
   ]
  },
  {
   "cell_type": "code",
   "execution_count": 218,
   "metadata": {},
   "outputs": [
    {
     "data": {
      "text/plain": [
       "30"
      ]
     },
     "execution_count": 218,
     "metadata": {},
     "output_type": "execute_result"
    }
   ],
   "source": [
    "def add(a,b):\n",
    "    return a+b\n",
    "add(10,20)"
   ]
  },
  {
   "cell_type": "code",
   "execution_count": 220,
   "metadata": {},
   "outputs": [
    {
     "data": {
      "text/plain": [
       "(10, 20, 30)"
      ]
     },
     "execution_count": 220,
     "metadata": {},
     "output_type": "execute_result"
    }
   ],
   "source": [
    "def add(a, b):\n",
    "    return a, b, a+b\n",
    "add(10,20)"
   ]
  },
  {
   "cell_type": "code",
   "execution_count": 221,
   "metadata": {},
   "outputs": [
    {
     "name": "stdout",
     "output_type": "stream",
     "text": [
      "10 20 30\n"
     ]
    }
   ],
   "source": [
    "x, y, z = add(10,20)\n",
    "print(x, y, z)"
   ]
  },
  {
   "cell_type": "code",
   "execution_count": 222,
   "metadata": {},
   "outputs": [
    {
     "ename": "ValueError",
     "evalue": "too many values to unpack (expected 2)",
     "output_type": "error",
     "traceback": [
      "\u001b[1;31m---------------------------------------------------------------------------\u001b[0m",
      "\u001b[1;31mValueError\u001b[0m                                Traceback (most recent call last)",
      "\u001b[1;32m<ipython-input-222-046def1896cc>\u001b[0m in \u001b[0;36m<module>\u001b[1;34m\u001b[0m\n\u001b[1;32m----> 1\u001b[1;33m \u001b[0mx\u001b[0m\u001b[1;33m,\u001b[0m \u001b[0my\u001b[0m \u001b[1;33m=\u001b[0m \u001b[0madd\u001b[0m\u001b[1;33m(\u001b[0m\u001b[1;36m10\u001b[0m\u001b[1;33m,\u001b[0m\u001b[1;36m20\u001b[0m\u001b[1;33m)\u001b[0m\u001b[1;33m\u001b[0m\u001b[1;33m\u001b[0m\u001b[0m\n\u001b[0m\u001b[0;32m      2\u001b[0m \u001b[0mprint\u001b[0m\u001b[1;33m(\u001b[0m\u001b[0mx\u001b[0m\u001b[1;33m,\u001b[0m \u001b[0my\u001b[0m\u001b[1;33m,\u001b[0m \u001b[0mz\u001b[0m\u001b[1;33m)\u001b[0m\u001b[1;33m\u001b[0m\u001b[1;33m\u001b[0m\u001b[0m\n",
      "\u001b[1;31mValueError\u001b[0m: too many values to unpack (expected 2)"
     ]
    }
   ],
   "source": [
    "x, y = add(10,20)\n",
    "print(x, y, z)"
   ]
  },
  {
   "cell_type": "code",
   "execution_count": 224,
   "metadata": {},
   "outputs": [
    {
     "name": "stdout",
     "output_type": "stream",
     "text": [
      "<class 'tuple'>\n",
      "10\n"
     ]
    },
    {
     "data": {
      "text/plain": [
       "55"
      ]
     },
     "execution_count": 224,
     "metadata": {},
     "output_type": "execute_result"
    }
   ],
   "source": [
    "# 매개변수갯수를 모를 경우\n",
    "def many_sum(*args):\n",
    "    print(type(args))\n",
    "    print(len(args))\n",
    "    sum = 0\n",
    "    for i in args:\n",
    "        sum += i\n",
    "        \n",
    "    return sum\n",
    "\n",
    "many_sum(1,2,3,4,5,6,7,8,9,10)"
   ]
  },
  {
   "cell_type": "code",
   "execution_count": 228,
   "metadata": {},
   "outputs": [
    {
     "name": "stdout",
     "output_type": "stream",
     "text": [
      "{'name': '소향', 'age': '42'}\n",
      "{'name': '소향', 'age': '42', 'addr': '송도'}\n"
     ]
    }
   ],
   "source": [
    "def kwfunc(**kwargs):\n",
    "    #print(type(kwargs))\n",
    "    print(kwargs)\n",
    "    \n",
    "kwfunc(name=\"소향\", age=\"42\")\n",
    "kwfunc(name=\"소향\", age=\"42\", addr=\"송도\")"
   ]
  },
  {
   "cell_type": "code",
   "execution_count": 226,
   "metadata": {},
   "outputs": [
    {
     "ename": "TypeError",
     "evalue": "kwfunc() takes 0 positional arguments but 1 was given",
     "output_type": "error",
     "traceback": [
      "\u001b[1;31m---------------------------------------------------------------------------\u001b[0m",
      "\u001b[1;31mTypeError\u001b[0m                                 Traceback (most recent call last)",
      "\u001b[1;32m<ipython-input-226-b3c9c4ef65e2>\u001b[0m in \u001b[0;36m<module>\u001b[1;34m\u001b[0m\n\u001b[1;32m----> 1\u001b[1;33m \u001b[0mkwfunc\u001b[0m\u001b[1;33m(\u001b[0m\u001b[1;36m1\u001b[0m\u001b[1;33m)\u001b[0m\u001b[1;33m\u001b[0m\u001b[1;33m\u001b[0m\u001b[0m\n\u001b[0m",
      "\u001b[1;31mTypeError\u001b[0m: kwfunc() takes 0 positional arguments but 1 was given"
     ]
    }
   ],
   "source": [
    "kwfunc(1)"
   ]
  },
  {
   "cell_type": "code",
   "execution_count": 230,
   "metadata": {},
   "outputs": [
    {
     "name": "stdout",
     "output_type": "stream",
     "text": [
      "(1,) {'name': '소향'}\n",
      "(1, 2, 3, 4, 5, 6, 7, 8) {'name': '소향', 'age': 42}\n"
     ]
    }
   ],
   "source": [
    "# *args와 **kwargs를 같이 사용할 경우\n",
    "# 순서에 맞게 전달해야지 에러가 발생되지 않는다.\n",
    "def mixfunc(*args, **kwargs):\n",
    "    print(args, kwargs)\n",
    "    \n",
    "mixfunc(1, name=\"소향\")\n",
    "mixfunc(1,2,3,4,5,6,7,8, name=\"소향\", age=42)"
   ]
  },
  {
   "cell_type": "code",
   "execution_count": 232,
   "metadata": {},
   "outputs": [
    {
     "ename": "SyntaxError",
     "evalue": "positional argument follows keyword argument (<ipython-input-232-845ded227d8a>, line 2)",
     "output_type": "error",
     "traceback": [
      "\u001b[1;36m  File \u001b[1;32m\"<ipython-input-232-845ded227d8a>\"\u001b[1;36m, line \u001b[1;32m2\u001b[0m\n\u001b[1;33m    mixfunc(name=\"소향\", age=42, 1,2,3,4,5,6,7,8, )\u001b[0m\n\u001b[1;37m                                   ^\u001b[0m\n\u001b[1;31mSyntaxError\u001b[0m\u001b[1;31m:\u001b[0m positional argument follows keyword argument\n"
     ]
    }
   ],
   "source": [
    "# mixfunc(1,2,3,4,5,6,7,8, name=\"소향\", age=42, 1)\n",
    "mixfunc(name=\"소향\", age=42, 1,2,3,4,5,6,7,8, )"
   ]
  }
 ],
 "metadata": {
  "kernelspec": {
   "display_name": "Python 3",
   "language": "python",
   "name": "python3"
  },
  "language_info": {
   "codemirror_mode": {
    "name": "ipython",
    "version": 3
   },
   "file_extension": ".py",
   "mimetype": "text/x-python",
   "name": "python",
   "nbconvert_exporter": "python",
   "pygments_lexer": "ipython3",
   "version": "3.8.5"
  }
 },
 "nbformat": 4,
 "nbformat_minor": 4
}
